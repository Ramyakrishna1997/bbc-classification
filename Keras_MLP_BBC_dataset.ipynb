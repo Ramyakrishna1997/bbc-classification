{
  "nbformat": 4,
  "nbformat_minor": 0,
  "metadata": {
    "accelerator": "GPU",
    "colab": {
      "name": "Keras_MLP_BBC_dataset.ipynb",
      "provenance": [],
      "collapsed_sections": []
    },
    "kernelspec": {
      "display_name": "Python 3",
      "language": "python",
      "name": "python3"
    },
    "language_info": {
      "codemirror_mode": {
        "name": "ipython",
        "version": 3
      },
      "file_extension": ".py",
      "mimetype": "text/x-python",
      "name": "python",
      "nbconvert_exporter": "python",
      "pygments_lexer": "ipython3",
      "version": "3.7.6"
    }
  },
  "cells": [
    {
      "cell_type": "markdown",
      "metadata": {
        "id": "5AmUvXZILnKx"
      },
      "source": [
        "### Import libraries"
      ]
    },
    {
      "cell_type": "code",
      "metadata": {
        "id": "n2utcVcCVE7-"
      },
      "source": [
        "import pandas as pd\n",
        "import numpy as np\n",
        "import sklearn\n",
        "import seaborn as sn\n",
        "import matplotlib.pyplot as plt\n",
        "from sklearn.metrics import accuracy_score\n",
        "from sklearn.metrics import confusion_matrix\n",
        "from sklearn.model_selection import train_test_split\n",
        "from sklearn.feature_extraction.text import TfidfVectorizer\n",
        "from keras.models import Sequential\n",
        "from keras.layers import Dense, Dropout\n",
        "from keras.wrappers.scikit_learn import KerasClassifier\n",
        "from keras.layers import Flatten\n",
        "from keras.layers.convolutional import Conv1D\n",
        "from keras.layers.convolutional import MaxPooling1D\n",
        "\n",
        "from sklearn.manifold import TSNE\n",
        "from sklearn.metrics import classification_report\n",
        "from numpy.random import seed\n",
        "seed(1)\n",
        "import warnings\n",
        "warnings.filterwarnings('ignore')"
      ],
      "execution_count": 2,
      "outputs": []
    },
    {
      "cell_type": "markdown",
      "metadata": {
        "id": "5Kv1CwnJMfUD"
      },
      "source": [
        "### create_dataframe() function implemented below converts all the txt files present in the folders to the pandas dataframe by first converting them to the raw text using the load_data function.\n",
        "\n",
        "<br>\n",
        "\n",
        "### This way we can perform the classification with all the datasets present in a single pandas dataframe"
      ]
    },
    {
      "cell_type": "code",
      "metadata": {
        "id": "YNxx7Tt6VLIg"
      },
      "source": [
        "def create_dataframe(): \n",
        "    data = pd.read_csv('BBC News Train.csv')\n",
        "    data['category_id'] = data['Category'].factorize()[0]\n",
        "    category_id_df = data[['Category', 'category_id']].drop_duplicates().sort_values('category_id')\n",
        "    return data, category_id_df"
      ],
      "execution_count": 3,
      "outputs": []
    },
    {
      "cell_type": "code",
      "metadata": {
        "id": "EgHpdSdzCCkJ"
      },
      "source": [
        "def preprocessing(df):\n",
        "    tfidf = TfidfVectorizer(sublinear_tf=True, min_df=5, norm='l2', encoding='latin-1', ngram_range=(1, 2), stop_words='english')\n",
        "    features = tfidf.fit_transform(df.Text).toarray() \n",
        "    labels = df.category_id\n",
        "    return tfidf, features, labels"
      ],
      "execution_count": 4,
      "outputs": []
    },
    {
      "cell_type": "markdown",
      "metadata": {
        "id": "sRfUPuQRRz94"
      },
      "source": [
        "find_retrieve function simply finds the retrieve value for each class using the confusion matrix"
      ]
    },
    {
      "cell_type": "code",
      "metadata": {
        "id": "GQVzLsUfqlQc"
      },
      "source": [
        "def find_retrieve(cm,id_to_type):\n",
        "    retrieve = {}\n",
        "    for i in range(cm.shape[0]):\n",
        "        cls = id_to_type[i]\n",
        "        value = cm[i,i]/np.sum(cm[i,:])\n",
        "        retrieve[cls] = value\n",
        "    return retrieve"
      ],
      "execution_count": 5,
      "outputs": []
    },
    {
      "cell_type": "markdown",
      "metadata": {
        "id": "xgcn0VNgOnJz"
      },
      "source": [
        "## Creating Dataframe in Pandas format"
      ]
    },
    {
      "cell_type": "code",
      "metadata": {
        "id": "sLGp8eZaWAjr",
        "colab": {
          "base_uri": "https://localhost:8080/"
        },
        "outputId": "17766d08-0722-43c7-8213-604100b794a7"
      },
      "source": [
        "df, category_id_df = create_dataframe()\n",
        "category_to_id = dict(category_id_df.values)\n",
        "id_to_category = dict(category_id_df[['category_id', 'Category']].values)\n",
        "id_to_category"
      ],
      "execution_count": 6,
      "outputs": [
        {
          "output_type": "execute_result",
          "data": {
            "text/plain": [
              "{0: 'business', 1: 'tech', 2: 'politics', 3: 'sport', 4: 'entertainment'}"
            ]
          },
          "metadata": {
            "tags": []
          },
          "execution_count": 6
        }
      ]
    },
    {
      "cell_type": "markdown",
      "metadata": {
        "id": "qhBo-vk8WT7o"
      },
      "source": [
        "Look at some random examples, and the number of examples in each class:"
      ]
    },
    {
      "cell_type": "code",
      "metadata": {
        "colab": {
          "base_uri": "https://localhost:8080/",
          "height": 204
        },
        "id": "wYA4F7dxWlb3",
        "outputId": "25976e62-abfb-429c-f6ce-45a7dfbc1468"
      },
      "source": [
        "df.sample(5, random_state=0)"
      ],
      "execution_count": 7,
      "outputs": [
        {
          "output_type": "execute_result",
          "data": {
            "text/html": [
              "<div>\n",
              "<style scoped>\n",
              "    .dataframe tbody tr th:only-of-type {\n",
              "        vertical-align: middle;\n",
              "    }\n",
              "\n",
              "    .dataframe tbody tr th {\n",
              "        vertical-align: top;\n",
              "    }\n",
              "\n",
              "    .dataframe thead th {\n",
              "        text-align: right;\n",
              "    }\n",
              "</style>\n",
              "<table border=\"1\" class=\"dataframe\">\n",
              "  <thead>\n",
              "    <tr style=\"text-align: right;\">\n",
              "      <th></th>\n",
              "      <th>ArticleId</th>\n",
              "      <th>Text</th>\n",
              "      <th>Category</th>\n",
              "      <th>category_id</th>\n",
              "    </tr>\n",
              "  </thead>\n",
              "  <tbody>\n",
              "    <tr>\n",
              "      <th>9</th>\n",
              "      <td>1866</td>\n",
              "      <td>fockers fuel festive film chart comedy meet th...</td>\n",
              "      <td>entertainment</td>\n",
              "      <td>4</td>\n",
              "    </tr>\n",
              "    <tr>\n",
              "      <th>354</th>\n",
              "      <td>1349</td>\n",
              "      <td>tory candidate quits over remark a conservativ...</td>\n",
              "      <td>politics</td>\n",
              "      <td>2</td>\n",
              "    </tr>\n",
              "    <tr>\n",
              "      <th>1227</th>\n",
              "      <td>1572</td>\n",
              "      <td>bath faced with tindall ultimatum mike tindall...</td>\n",
              "      <td>sport</td>\n",
              "      <td>3</td>\n",
              "    </tr>\n",
              "    <tr>\n",
              "      <th>907</th>\n",
              "      <td>1155</td>\n",
              "      <td>chancellor rallies labour voters gordon brown ...</td>\n",
              "      <td>politics</td>\n",
              "      <td>2</td>\n",
              "    </tr>\n",
              "    <tr>\n",
              "      <th>575</th>\n",
              "      <td>307</td>\n",
              "      <td>young debut cut short by ginepri fifteen-year-...</td>\n",
              "      <td>sport</td>\n",
              "      <td>3</td>\n",
              "    </tr>\n",
              "  </tbody>\n",
              "</table>\n",
              "</div>"
            ],
            "text/plain": [
              "      ArticleId  ... category_id\n",
              "9          1866  ...           4\n",
              "354        1349  ...           2\n",
              "1227       1572  ...           3\n",
              "907        1155  ...           2\n",
              "575         307  ...           3\n",
              "\n",
              "[5 rows x 4 columns]"
            ]
          },
          "metadata": {
            "tags": []
          },
          "execution_count": 7
        }
      ]
    },
    {
      "cell_type": "code",
      "metadata": {
        "colab": {
          "base_uri": "https://localhost:8080/",
          "height": 358
        },
        "id": "YeVyZ8YTWS2v",
        "outputId": "4a91b954-ed80-48fc-d885-0cff64138190"
      },
      "source": [
        "df.groupby('Category').category_id.count().plot.bar(ylim=0)"
      ],
      "execution_count": 8,
      "outputs": [
        {
          "output_type": "execute_result",
          "data": {
            "text/plain": [
              "<matplotlib.axes._subplots.AxesSubplot at 0x7f7a6d809d50>"
            ]
          },
          "metadata": {
            "tags": []
          },
          "execution_count": 8
        },
        {
          "output_type": "display_data",
          "data": {
            "image/png": "[encoded data removed]",
            "text/plain": [
              "<Figure size 432x288 with 1 Axes>"
            ]
          },
          "metadata": {
            "tags": [],
            "needs_background": "light"
          }
        }
      ]
    },
    {
      "cell_type": "code",
      "metadata": {
        "colab": {
          "base_uri": "https://localhost:8080/"
        },
        "id": "nM_AEC8ORRrL",
        "outputId": "f150ddc8-4914-438d-e76e-0cbe1c64cdcb"
      },
      "source": [
        "df.groupby('Category').category_id.count()"
      ],
      "execution_count": 9,
      "outputs": [
        {
          "output_type": "execute_result",
          "data": {
            "text/plain": [
              "Category\n",
              "business         336\n",
              "entertainment    273\n",
              "politics         274\n",
              "sport            346\n",
              "tech             261\n",
              "Name: category_id, dtype: int64"
            ]
          },
          "metadata": {
            "tags": []
          },
          "execution_count": 9
        }
      ]
    },
    {
      "cell_type": "markdown",
      "metadata": {
        "id": "DI_WNPcHXDS_"
      },
      "source": [
        "We see that the number of articles per class is roughly balanced, which is helpful!"
      ]
    },
    {
      "cell_type": "code",
      "metadata": {
        "id": "wSlDSZV9Fe0v"
      },
      "source": [
        "'''\n",
        "features remaps the words in the 1490 articles in the text column of \n",
        "data frame into features (superset of words) with an importance assigned \n",
        "based on each words frequency in the document and across documents\n",
        "\n",
        "# labels represents the category of each of the 1490 articles\n",
        "'''\n",
        "tfidf, features, labels = preprocessing(df)"
      ],
      "execution_count": 10,
      "outputs": []
    },
    {
      "cell_type": "code",
      "metadata": {
        "id": "RS9wda57HaFi"
      },
      "source": [
        "np.random.seed(0)\n",
        "# Randomly select 30 % of samples\n",
        "index = np.random.choice(range(len(features)), size=int(len(features)*0.3), replace=False)          \n",
        "# Array of all projected features of 30% of Randomly chosen samples\n",
        "projected_features = TSNE(n_components=2, random_state=0).fit_transform(features[index])  "
      ],
      "execution_count": 11,
      "outputs": []
    },
    {
      "cell_type": "code",
      "metadata": {
        "colab": {
          "base_uri": "https://localhost:8080/",
          "height": 283
        },
        "id": "MIWDMskQHpmw",
        "outputId": "e4fb2a79-326c-4211-b629-40cd5b7035ea"
      },
      "source": [
        "colors = ['pink', 'green', 'midnightblue', 'orange', 'darkgrey']\n",
        "# Find points belonging to each category and plot them\n",
        "for category, category_id in sorted(category_to_id.items()):\n",
        "    points = projected_features[(labels[index] == category_id).values]\n",
        "    plt.scatter(points[:, 0], points[:, 1], s=30, c=colors[category_id], label=category)\n",
        "plt.title(\"tf-idf feature vector for each article, projected on 2 dimensions.\",fontdict=dict(fontsize=15))\n",
        "plt.legend(bbox_to_anchor=(1.04,1), loc=\"upper left\")\n",
        "plt.show()"
      ],
      "execution_count": 12,
      "outputs": [
        {
          "output_type": "display_data",
          "data": {
            "image/png": "[encoded data removed]",
            "text/plain": [
              "<Figure size 432x288 with 1 Axes>"
            ]
          },
          "metadata": {
            "tags": [],
            "needs_background": "light"
          }
        }
      ]
    },
    {
      "cell_type": "code",
      "metadata": {
        "id": "Kl0Yuj3edIeo"
      },
      "source": [
        "X_train, X_test, y_train, y_test = train_test_split(features, labels, test_size=0.3, random_state=0)"
      ],
      "execution_count": 13,
      "outputs": []
    },
    {
      "cell_type": "code",
      "metadata": {
        "id": "aSksbdWnbs_l"
      },
      "source": [
        "# Create MLP\n",
        "def build_mlp(hidden_layer_1_size=1024, hidden_layer_2_size=512, dropout_1_2=0.1):\n",
        "    \n",
        "    mlp_model = Sequential()\n",
        "\n",
        "    mlp_model.add(Dense(hidden_layer_1_size, input_dim=X_train.shape[1], activation='tanh'))\n",
        "    \n",
        "    if dropout_1_2 > 0.0:\n",
        "        mlp_model.add(Dropout(dropout_1_2))\n",
        "    \n",
        "    if hidden_layer_2_size > 0:\n",
        "        mlp_model.add(Dense(hidden_layer_2_size, activation='tanh'))\n",
        "        \n",
        "    mlp_model.add(Dense(len(category_to_id.keys()), activation='softmax'))\n",
        "\n",
        "    mlp_model.compile(loss='categorical_crossentropy', optimizer='adam', metrics=['accuracy'])\n",
        "    \n",
        "    return mlp_model"
      ],
      "execution_count": 14,
      "outputs": []
    },
    {
      "cell_type": "code",
      "metadata": {
        "id": "kvGu0iMWcIIf"
      },
      "source": [
        "model = KerasClassifier(build_mlp, verbose=0, hidden_layer_1_size=1024, hidden_layer_2_size=512, dropout_1_2=0.2)"
      ],
      "execution_count": 15,
      "outputs": []
    },
    {
      "cell_type": "markdown",
      "metadata": {
        "id": "stdyi755MZcG"
      },
      "source": [
        "## Testing the model"
      ]
    },
    {
      "cell_type": "code",
      "metadata": {
        "id": "_s4vBSP8MIfw"
      },
      "source": [
        "#Train Algorithm\n",
        "model.fit(X_train, y_train)\n",
        "# Make Predictions\n",
        "y_pred = model.predict(X_test)"
      ],
      "execution_count": 16,
      "outputs": []
    },
    {
      "cell_type": "code",
      "metadata": {
        "colab": {
          "base_uri": "https://localhost:8080/"
        },
        "id": "A3fX57DUKfpF",
        "outputId": "1847f65c-09d5-40cd-887c-d751111acfae"
      },
      "source": [
        "print('Accuracy of the model is:', round(accuracy_score(y_pred,y_test),4))"
      ],
      "execution_count": 17,
      "outputs": [
        {
          "output_type": "stream",
          "text": [
            "Accuracy of the model is: 0.9776\n"
          ],
          "name": "stdout"
        }
      ]
    },
    {
      "cell_type": "code",
      "metadata": {
        "colab": {
          "base_uri": "https://localhost:8080/",
          "height": 279
        },
        "id": "cZE57NoxOZ4d",
        "outputId": "88e48fe7-a748-45f4-9a5a-b54ad9df5951"
      },
      "source": [
        "cm = confusion_matrix(y_true=y_test,y_pred=y_pred)\n",
        "sn.heatmap(cm, annot=True, fmt='d', xticklabels=category_id_df.Category.values, yticklabels=category_id_df.Category.values)\n",
        "plt.ylabel('Actual')\n",
        "plt.xlabel('Predicted')\n",
        "plt.show()"
      ],
      "execution_count": 18,
      "outputs": [
        {
          "output_type": "display_data",
          "data": {
            "image/png": "[encoded data removed]",
            "text/plain": [
              "<Figure size 432x288 with 2 Axes>"
            ]
          },
          "metadata": {
            "tags": [],
            "needs_background": "light"
          }
        }
      ]
    },
    {
      "cell_type": "code",
      "metadata": {
        "colab": {
          "base_uri": "https://localhost:8080/"
        },
        "id": "GyZP561xRv6v",
        "outputId": "6304cf92-17bd-4c56-d6e3-743943ec75f1"
      },
      "source": [
        "print('Retrieve value for all the class is:\\n')\n",
        "find_retrieve(cm,id_to_category)"
      ],
      "execution_count": 19,
      "outputs": [
        {
          "output_type": "stream",
          "text": [
            "Retrieve value for all the class is:\n",
            "\n"
          ],
          "name": "stdout"
        },
        {
          "output_type": "execute_result",
          "data": {
            "text/plain": [
              "{'business': 0.9902912621359223,\n",
              " 'entertainment': 1.0,\n",
              " 'politics': 0.9506172839506173,\n",
              " 'sport': 0.9896907216494846,\n",
              " 'tech': 0.948051948051948}"
            ]
          },
          "metadata": {
            "tags": []
          },
          "execution_count": 19
        }
      ]
    },
    {
      "cell_type": "code",
      "metadata": {
        "colab": {
          "base_uri": "https://localhost:8080/"
        },
        "id": "91xBqH90p-KM",
        "outputId": "f65d0fbd-fb9a-4220-aa98-7623bdd50366"
      },
      "source": [
        "## Print the classification report\n",
        "\n",
        "target_names = df['Category'].unique()\n",
        "print(classification_report(y_test, y_pred, target_names=target_names))"
      ],
      "execution_count": 20,
      "outputs": [
        {
          "output_type": "stream",
          "text": [
            "               precision    recall  f1-score   support\n",
            "\n",
            "     business       0.98      0.99      0.99       103\n",
            "         tech       1.00      0.95      0.97        77\n",
            "     politics       0.99      0.95      0.97        81\n",
            "        sport       1.00      0.99      0.99        97\n",
            "entertainment       0.93      1.00      0.96        89\n",
            "\n",
            "     accuracy                           0.98       447\n",
            "    macro avg       0.98      0.98      0.98       447\n",
            " weighted avg       0.98      0.98      0.98       447\n",
            "\n"
          ],
          "name": "stdout"
        }
      ]
    }
  ]
}